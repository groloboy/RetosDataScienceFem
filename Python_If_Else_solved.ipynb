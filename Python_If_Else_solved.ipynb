{
  "nbformat": 4,
  "nbformat_minor": 0,
  "metadata": {
    "colab": {
      "name": "Python If-Else_solved.ipynb",
      "provenance": [],
      "authorship_tag": "ABX9TyNrrAddWqQFRhX2RRhbinKL",
      "include_colab_link": true
    },
    "kernelspec": {
      "name": "python3",
      "display_name": "Python 3"
    }
  },
  "cells": [
    {
      "cell_type": "markdown",
      "metadata": {
        "id": "view-in-github",
        "colab_type": "text"
      },
      "source": [
        "<a href=\"https://colab.research.google.com/github/groloboy/RetosDataScienceFem/blob/main/Python_If_Else_solved.ipynb\" target=\"_parent\"><img src=\"https://colab.research.google.com/assets/colab-badge.svg\" alt=\"Open In Colab\"/></a>"
      ]
    },
    {
      "cell_type": "code",
      "metadata": {
        "id": "u-Uky8plx95x"
      },
      "source": [
        "#!/bin/python3\r\n",
        "\r\n",
        "import math\r\n",
        "import os\r\n",
        "import random\r\n",
        "import re\r\n",
        "import sys\r\n",
        "\r\n",
        "\r\n",
        "def solution(n):\r\n",
        "    res = \"\"\r\n",
        "    if n%2 != 0:\r\n",
        "        res=\"Weird\"\r\n",
        "    elif n>=2 and n<5:\r\n",
        "        res=\"Not Weird\"\r\n",
        "    elif n>=6 and n<=20:\r\n",
        "        res=\"Weird\"\r\n",
        "    elif n>20:\r\n",
        "        res=\"Not Weird\"\r\n",
        "        \r\n",
        "    return res\r\n",
        "if __name__ == '__main__':\r\n",
        "    n = int(input().strip())\r\n",
        "    print(solution(n))\r\n"
      ],
      "execution_count": null,
      "outputs": []
    }
  ]
}